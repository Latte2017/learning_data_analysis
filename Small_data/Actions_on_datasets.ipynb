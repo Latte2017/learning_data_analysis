{
 "metadata": {
  "language_info": {
   "codemirror_mode": {
    "name": "ipython",
    "version": 3
   },
   "file_extension": ".py",
   "mimetype": "text/x-python",
   "name": "python",
   "nbconvert_exporter": "python",
   "pygments_lexer": "ipython3",
   "version": "3.9.2-final"
  },
  "orig_nbformat": 2,
  "kernelspec": {
   "name": "python3",
   "display_name": "Python 3.9.2 64-bit",
   "metadata": {
    "interpreter": {
     "hash": "a3f3ae25f4f99ea7648ec56aed4ab8d535217056c03dd5cb0465735d23a52cee"
    }
   }
  }
 },
 "nbformat": 4,
 "nbformat_minor": 2,
 "cells": [
  {
   "cell_type": "code",
   "execution_count": 12,
   "metadata": {},
   "outputs": [
    {
     "output_type": "stream",
     "name": "stdout",
     "text": [
      "    sales_month     sales  Reached_Sales_target\n0             1   9604744                 False\n1             2   8072071                 False\n2             3  11944366                  True\n3             4   6848992                 False\n4             5   8072561                 False\n5             6   8729525                 False\n6             7   8283932                 False\n7             8  13597664                  True\n8             9   8116097                 False\n9            10   7257710                 False\n10           11   6783025                 False\n11           12   7425550                  True\n"
     ]
    }
   ],
   "source": [
    "import pandas as pd\n",
    "\n",
    "df1 = pd.read_csv(\"sales_data_table1.csv\", delimiter=\"|\", usecols=[1,2])\n",
    "df2 = pd.read_csv(\"sales_data_table2.csv\", delimiter=\"|\", usecols=[1,2])\n",
    "df3 = pd.read_csv(\"sales_data_table3.csv\", delimiter=\"\\t\")\n",
    "\n",
    "df1 = pd.concat([df1, df2])\n",
    "df1 = df1.groupby(['sales_month']).sum()\n",
    "#%timeit df3.rename(columns={'Month':'sales_month'}, inplace = True)\n",
    "\n",
    "df3.rename(columns={'Month':'sales_month'}, inplace = True)\n",
    "\n",
    "\n",
    "df1 = pd.merge(df1, df3, on=\"sales_month\") # Default is inner join\n",
    "\n",
    "\n",
    "display(df1)\n",
    "\n",
    "\n"
   ]
  },
  {
   "cell_type": "code",
   "execution_count": 35,
   "metadata": {
    "tags": []
   },
   "outputs": [
    {
     "output_type": "stream",
     "name": "stdout",
     "text": [
      "537 µs ± 9.56 µs per loop (mean ± std. dev. of 7 runs, 1000 loops each)\n"
     ]
    }
   ],
   "source": [
    "\n",
    "df1 = pd.read_csv(\"sales_data_table1.csv\", delimiter=\"|\", usecols=[1,2])\n",
    "df2 = pd.read_csv(\"sales_data_table2.csv\", delimiter=\"|\", usecols=[1,2])\n",
    "df3 = pd.read_csv(\"sales_data_table3.csv\", delimiter=\"\\t\")\n",
    "\n",
    "\n",
    "\n",
    "df1 = pd.concat([df1, df2])\n",
    "df1 = df1.groupby(['sales_month']).sum()\n",
    "\n",
    "\n",
    "\n",
    "# Default is inner join\n",
    "%timeit pd.merge(df1, df3, right_on=\"Month\", left_on=\"sales_month\") \n",
    "\n",
    "\n",
    "#print(df1)"
   ]
  },
  {
   "cell_type": "code",
   "execution_count": null,
   "metadata": {},
   "outputs": [],
   "source": []
  }
 ]
}