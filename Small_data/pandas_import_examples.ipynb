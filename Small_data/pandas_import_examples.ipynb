{
 "metadata": {
  "language_info": {
   "codemirror_mode": {
    "name": "ipython",
    "version": 3
   },
   "file_extension": ".py",
   "mimetype": "text/x-python",
   "name": "python",
   "nbconvert_exporter": "python",
   "pygments_lexer": "ipython3",
   "version": "3.9.2-final"
  },
  "orig_nbformat": 2,
  "kernelspec": {
   "name": "python3",
   "display_name": "Python 3.9.2 64-bit",
   "metadata": {
    "interpreter": {
     "hash": "a3f3ae25f4f99ea7648ec56aed4ab8d535217056c03dd5cb0465735d23a52cee"
    }
   }
  }
 },
 "nbformat": 4,
 "nbformat_minor": 2,
 "cells": [
  {
   "cell_type": "code",
   "execution_count": 1,
   "metadata": {},
   "outputs": [
    {
     "output_type": "stream",
     "name": "stdout",
     "text": [
      "     ID    num        Date                           Address\n0  4141  13021  1607472343                 831-4189 Nunc Av.\n1  7946  28308  1647566662                   4692 Augue. Rd.\n2  9464   3154  1611525228  P.O. Box 255, 3515 Facilisis Av.\nint32\n"
     ]
    }
   ],
   "source": [
    "import pandas as pd\n",
    "my_data = pd.read_csv('sample_data.csv', header=0, nrows=3, skiprows=range(1,10), dtype={'ID':int}) #Creates a dataframe. Read 3 rows after skipping first 10, skip rows can also take a function\n",
    "#print(my_data.columns)\n",
    "#print(my_data['Address'])\n",
    "print(my_data)\n",
    "print(my_data['ID'].dtype)"
   ]
  },
  {
   "cell_type": "code",
   "execution_count": null,
   "metadata": {},
   "outputs": [],
   "source": [
    "import pandas as pd\n",
    "import re\n",
    "import datetime\n",
    "\n",
    "def func1(Address):\n",
    "    Address = Address.split()\n",
    "    return Address\n",
    "\n",
    "\n",
    "\n",
    "#my_data = pd.read_csv('sample_data.csv', dtype={'Address':str})\n",
    "#print(my_data.iloc[2][\"Address\"])\n",
    "\n",
    "my_data = pd.read_csv('sample_data.csv', converters={'Address': func1, 'ID':float}, parse_dates=['Date'])\n",
    "\n",
    "print(my_data.dtypes)\n",
    "\n",
    "my_data['Date'] = pd.to_datetime(my_data['Date'], unit = 's') #Convert epoch to human readable time\n",
    "\n",
    "print(my_data.iloc[0])\n",
    "print(type(my_data['Date'][0]))\n",
    "print(datetime.datetime.now())"
   ]
  },
  {
   "cell_type": "code",
   "execution_count": 15,
   "metadata": {},
   "outputs": [
    {
     "output_type": "stream",
     "name": "stdout",
     "text": [
      "<class 'pandas.core.series.Series'>\n     ID    num        Date                                            Address\n0  1572  99248  1618793311   [3, 5, 5, -, 6, 4, 8, 7,  , S, e, d,  , S, t, .]\n1  8239  63886  1639957821   [1, 9, 3, -, 2, 8, 8, 9,  , D, i, s,  , R, d, .]\n2  2424  78714  1627472605  [A, p,  , #, 7, 7, 1, -, 5, 5, 0,  , O, r, n, ...\n3  2645  98313  1631805640  [P, ., O, .,  , B, o, x,  , 1, 2, 0, ,,  , 1, ...\n4  4104  64222  1591766292  [A, p,  , #, 4, 2, 9, -, 3, 2, 7, 5,  , T, i, ...\n5  4958   7620  1645693631  [1, 5, 0, -, 6, 4, 6, 5,  , M, a, t, t, i, s, ...\n6  1978  20617  1587213829  [3, 4, 6, -, 4, 4, 9, 3,  , V, e, s, t, i, b, ...\n7   173  18564  1628169079                                                 []\n8  2405   3165  1638661690   [2, 8, 8, -, 3, 9, 9,  , V, e, l, ,,  , A, v, .]\n9  4141  13021  1607472343  [8, 3, 1, -, 4, 1, 8, 9,  , N, u, n, c,  , A, ...\n"
     ]
    }
   ],
   "source": [
    "import pandas as pd\n",
    "\n",
    "data_frame = pd.read_csv(\"sample_data.csv\", converters={'Address': list}, na_filter=True)\n",
    "print(type(data_frame[\"Address\"]))\n",
    "print(data_frame.head(10))"
   ]
  },
  {
   "cell_type": "code",
   "execution_count": 18,
   "metadata": {},
   "outputs": [
    {
     "output_type": "stream",
     "name": "stdout",
     "text": [
      "      Name                                               text  Currency\n0     Clio  eu, accumsan sed, facilisis vitae, orci. Phase...       100\n1   Ashton  elementum, dui quis accumsan convallis, ante l...       100\n2     John  tempus eu, ligula. Aenean euismod mauris eu el...       100\n3     Lucy  est. Nunc ullamcorper, velit in aliquet lobort...       100\n4    Louis  Quisque nonummy ipsum non arcu. Vivamus sit am...       100\n5     Xena  metus. In nec orci. Donec nibh. Quisque nonumm...       100\n6  Georgia  molestie. Sed id risus quis diam luctus lobort...       100\n7    Fritz  non, bibendum sed, est. Nunc laoreet lectus qu...       100\n8   Miriam  elementum, lorem ut aliquam iaculis, lacus ped...       100\n9  Latifah  quam a felis ullamcorper viverra. Maecenas iac...       100\nNone\n"
     ]
    }
   ],
   "source": [
    "import pandas as pd\n",
    "my_data_frame = pd.read_csv(\"sample_data2.csv\", delimiter='\\t')\n",
    "\n",
    "print(my_data_frame.head(10))\n",
    "\n",
    "print(my_data_frame.to_csv(\"trash.txt\"))\n",
    "\n",
    "if os.path.isfile(\"trash.txt\"):\n",
    "    os.remove(\"trash.txt\")\n",
    "\n"
   ]
  },
  {
   "cell_type": "code",
   "execution_count": 36,
   "metadata": {},
   "outputs": [
    {
     "output_type": "stream",
     "name": "stdout",
     "text": [
      "992505\n"
     ]
    }
   ],
   "source": [
    "import pandas as pd\n",
    "\n",
    "data_frame = pd.read_json(\"sample_data3.json\")\n",
    "print(data_frame.iloc[0][\"ID\"])"
   ]
  },
  {
   "cell_type": "code",
   "execution_count": 29,
   "metadata": {},
   "outputs": [
    {
     "output_type": "stream",
     "name": "stdout",
     "text": [
      "   one  2    3\n0  1.0  4  8.0\n1  2.0  5  NaN\n2  3.0  6  NaN\n3  NaN  7  NaN\n"
     ]
    }
   ],
   "source": [
    "import pandas as pd\n",
    "\n",
    "mydict = {'one': [1,2,3], 2: [4,5,6,7], 3: 8}\n",
    "dict_df = pd.DataFrame({ key:pd.Series(value) for key, value in mydict.items() })\n",
    "\n",
    "print(dict_df)\n"
   ]
  },
  {
   "cell_type": "code",
   "execution_count": 48,
   "metadata": {},
   "outputs": [
    {
     "output_type": "stream",
     "name": "stdout",
     "text": [
      "       ID num        Date                     Address\n0    9555   1  1598942951     396-9406 Fringilla. Rd.\n1  110990   2  1692737752  Ap #943-7375 Tincidunt Rd.\n2  692042   3  2008102780           3607 Enim, Street\n"
     ]
    }
   ],
   "source": [
    "import pandas as pd\n",
    "import xml.etree.ElementTree as et\n",
    "\n",
    "data = []\n",
    "cols = []\n",
    "\n",
    "with open(\"sample_data4.xml\") as f:\n",
    "    xtree = et.parse(\"sample_data4.xml\")\n",
    "    xroot = xtree.getroot()\n",
    "    rows = []\n",
    "    df_cols = [\"ID\", \"num\", \"Date\", \"Address\"]\n",
    "    for node in xroot:\n",
    "        res = []\n",
    "        \n",
    "        for el in df_cols:\n",
    "            if node is not None and node.find(el) is not None:\n",
    "                res.append(node.find(el).text)\n",
    "            else:\n",
    "                res.append(None)\n",
    "        \n",
    "        rows.append({df_cols[i]: res[i]\n",
    "                    for i, _ in enumerate(df_cols)})\n",
    "        \n",
    "    \n",
    "    out_df = pd.DataFrame(rows, columns=df_cols)\n",
    "    print(out_df.head(3))\n"
   ]
  },
  {
   "cell_type": "code",
   "execution_count": 27,
   "metadata": {},
   "outputs": [
    {
     "output_type": "stream",
     "name": "stdout",
     "text": [
      "<class 'pandas.core.frame.DataFrame'>\n"
     ]
    }
   ],
   "source": [
    "import pandas as pd\n",
    "import matplotlib.pyplot as plt\n",
    "\n",
    "load_excel = pd.read_excel(\"sample_data5.xlsx\", sheet_name=0) #, sheet_name=0 make load_excel a dict instrad of data frame\n",
    "\n",
    "print(type(load_excel))\n",
    "\n",
    "\n",
    "\n",
    "#load_excel.plot(x=\"ID\", y=\"num\", kind='bar') Only works on data frames but load_excel is a dict\n"
   ]
  },
  {
   "cell_type": "code",
   "execution_count": 13,
   "metadata": {},
   "outputs": [
    {
     "output_type": "stream",
     "name": "stdout",
     "text": [
      "2021-03-30 22:42:41,670 INFO sqlalchemy.engine.Engine SHOW VARIABLES LIKE 'sql_mode'\n",
      "2021-03-30 22:42:41,671 INFO sqlalchemy.engine.Engine [raw sql] ()\n",
      "2021-03-30 22:42:41,689 INFO sqlalchemy.engine.Engine SHOW VARIABLES LIKE 'lower_case_table_names'\n",
      "2021-03-30 22:42:41,691 INFO sqlalchemy.engine.Engine [generated in 0.00063s] ()\n",
      "2021-03-30 22:42:41,695 INFO sqlalchemy.engine.Engine SELECT DATABASE()\n",
      "2021-03-30 22:42:41,696 INFO sqlalchemy.engine.Engine [raw sql] ()\n",
      "2021-03-30 22:42:41,701 INFO sqlalchemy.engine.Engine SELECT * FROM information_schema.tables WHERE table_schema = %s AND table_name = %s\n",
      "2021-03-30 22:42:41,701 INFO sqlalchemy.engine.Engine [generated in 0.00060s] ('default', 'use `default`;\\n\\nDROP TABLE IF EXISTS `table1`;\\n\\nCREATE TABLE `table1` (\\n  `id` mediumint(8) unsigned NOT NULL auto_increment,\\n  `num` mediumint ... (2070 characters truncated) ... 34474,39,\"1772541079\",\"P.O. Box 251, 7096 Magnis St.\"),(698717,40,\"1840015716\",\"632-7960 Et St.\"),(27808,41,\"1663585013\",\"Ap #976-2464 Ante Street\");')\n",
      "2021-03-30 22:42:41,711 INFO sqlalchemy.engine.Engine use `default`;\n",
      "\n",
      "DROP TABLE IF EXISTS `table1`;\n",
      "\n",
      "CREATE TABLE `table1` (\n",
      "  `id` mediumint(8) unsigned NOT NULL auto_increment,\n",
      "  `num` mediumint,\n",
      "  `Date` varchar(255),\n",
      "  `Address` varchar(255) default NULL,\n",
      "  PRIMARY KEY (`id`)\n",
      ") AUTO_INCREMENT=1;\n",
      "\n",
      "INSERT INTO `table1` (`ID`,`num`,`Date`,`Address`) VALUES (461640,1,\"1721208967\",\"P.O. Box 928, 6705 Erat St.\"),(184904,2,\"1617742378\",\"1197 Tristique Ave\"),(949082,3,\"1983337849\",\"Ap #791-2299 Laoreet Ave\"),(206387,4,\"1841318893\",\"198-4189 Ligula. Av.\"),(881054,5,\"1986069712\",\"P.O. Box 513, 1942 Proin Av.\"),(272776,6,\"1830411188\",\"Ap #908-9309 Euismod Av.\"),(163189,7,\"1597676413\",\"Ap #776-888 Donec St.\"),(762221,8,\"1944768073\",\"P.O. Box 233, 797 Odio. Rd.\"),(530523,9,\"1850001689\",\"243-705 Felis. Avenue\"),(593715,10,\"1728094846\",\"Ap #903-6360 Lacinia Rd.\"),(265979,11,\"1590375964\",\"786-856 Ligula Road\"),(669772,12,\"1796311449\",\"259-4962 Mauris Av.\"),(642467,13,\"1605806254\",\"Ap #331-5224 Mi Avenue\"),(33315,14,\"1991753289\",\"P.O. Box 951, 8608 Velit Ave\"),(437524,15,\"1725537416\",\"7628 Sed Rd.\"),(169608,16,\"1813330794\",\"1859 Tellus St.\"),(840332,17,\"1588168599\",\"Ap #405-9030 Ultrices Rd.\"),(86660,18,\"1811771625\",\"P.O. Box 709, 7058 Facilisi. Avenue\"),(950659,19,\"1820849990\",\"851-6767 Non, Street\"),(959643,20,\"1820209433\",\"886-6668 Ultrices. Road\"),(233901,21,\"1798761652\",\"739-9267 Sodales. St.\"),(366761,22,\"1829757996\",\"612-7637 Vulputate, Ave\"),(573654,23,\"1896144567\",\"946-2270 Eget St.\"),(664363,24,\"2005149137\",\"532-9727 Tortor, Rd.\"),(433029,25,\"1785205336\",\"713-4561 Bibendum. St.\"),(23544,26,\"1767334254\",\"9745 Nulla. Street\"),(877970,27,\"1843260827\",\"258 Sociis St.\"),(579125,28,\"1959805855\",\"1548 Imperdiet Rd.\"),(787768,29,\"1753112498\",\"P.O. Box 382, 809 Adipiscing Av.\"),(253531,30,\"1675829781\",\"983-9785 Nec Rd.\"),(431860,31,\"1779711312\",\"P.O. Box 153, 1699 Velit St.\"),(428107,32,\"1830352100\",\"P.O. Box 379, 5511 Id, Road\"),(760942,33,\"1802508924\",\"4704 Proin Street\"),(972826,34,\"1664114217\",\"P.O. Box 441, 6172 Dictum. Rd.\"),(797908,35,\"1794239033\",\"P.O. Box 545, 405 Sed Street\"),(447651,36,\"1957392144\",\"7299 Mattis. Avenue\"),(596945,37,\"1720215753\",\"Ap #776-5097 Pellentesque St.\"),(988715,38,\"1973481539\",\"590 Donec Avenue\"),(34474,39,\"1772541079\",\"P.O. Box 251, 7096 Magnis St.\"),(698717,40,\"1840015716\",\"632-7960 Et St.\"),(27808,41,\"1663585013\",\"Ap #976-2464 Ante Street\");\n",
      "2021-03-30 22:42:41,713 INFO sqlalchemy.engine.Engine [raw sql] ()\n"
     ]
    },
    {
     "output_type": "error",
     "ename": "ResourceClosedError",
     "evalue": "This result object does not return rows. It has been closed automatically.",
     "traceback": [
      "\u001b[1;31m---------------------------------------------------------------------------\u001b[0m",
      "\u001b[1;31mResourceClosedError\u001b[0m                       Traceback (most recent call last)",
      "\u001b[1;32m<ipython-input-13-802868dc67cf>\u001b[0m in \u001b[0;36m<module>\u001b[1;34m\u001b[0m\n\u001b[0;32m     19\u001b[0m \u001b[1;33m\u001b[0m\u001b[0m\n\u001b[0;32m     20\u001b[0m \u001b[1;32mwith\u001b[0m \u001b[0mengine\u001b[0m\u001b[1;33m.\u001b[0m\u001b[0mconnect\u001b[0m\u001b[1;33m(\u001b[0m\u001b[1;33m)\u001b[0m \u001b[1;32mas\u001b[0m \u001b[0mconnection\u001b[0m\u001b[1;33m:\u001b[0m\u001b[1;33m\u001b[0m\u001b[1;33m\u001b[0m\u001b[0m\n\u001b[1;32m---> 21\u001b[1;33m     \u001b[0mdf\u001b[0m \u001b[1;33m=\u001b[0m \u001b[0mpd\u001b[0m\u001b[1;33m.\u001b[0m\u001b[0mread_sql\u001b[0m\u001b[1;33m(\u001b[0m\u001b[0mquery\u001b[0m\u001b[1;33m.\u001b[0m\u001b[0mread\u001b[0m\u001b[1;33m(\u001b[0m\u001b[1;33m)\u001b[0m\u001b[1;33m,\u001b[0m \u001b[0mconnection\u001b[0m\u001b[1;33m)\u001b[0m\u001b[1;33m\u001b[0m\u001b[1;33m\u001b[0m\u001b[0m\n\u001b[0m\u001b[0;32m     22\u001b[0m \u001b[1;33m\u001b[0m\u001b[0m\n\u001b[0;32m     23\u001b[0m \u001b[0mquery\u001b[0m\u001b[1;33m.\u001b[0m\u001b[0mclose\u001b[0m\u001b[1;33m(\u001b[0m\u001b[1;33m)\u001b[0m\u001b[1;33m\u001b[0m\u001b[1;33m\u001b[0m\u001b[0m\n",
      "\u001b[1;32mc:\\Users\\kiran\\myvirtualenvs\\env1\\lib\\site-packages\\pandas\\io\\sql.py\u001b[0m in \u001b[0;36mread_sql\u001b[1;34m(sql, con, index_col, coerce_float, params, parse_dates, columns, chunksize)\u001b[0m\n\u001b[0;32m    508\u001b[0m         )\n\u001b[0;32m    509\u001b[0m     \u001b[1;32melse\u001b[0m\u001b[1;33m:\u001b[0m\u001b[1;33m\u001b[0m\u001b[1;33m\u001b[0m\u001b[0m\n\u001b[1;32m--> 510\u001b[1;33m         return pandas_sql.read_query(\n\u001b[0m\u001b[0;32m    511\u001b[0m             \u001b[0msql\u001b[0m\u001b[1;33m,\u001b[0m\u001b[1;33m\u001b[0m\u001b[1;33m\u001b[0m\u001b[0m\n\u001b[0;32m    512\u001b[0m             \u001b[0mindex_col\u001b[0m\u001b[1;33m=\u001b[0m\u001b[0mindex_col\u001b[0m\u001b[1;33m,\u001b[0m\u001b[1;33m\u001b[0m\u001b[1;33m\u001b[0m\u001b[0m\n",
      "\u001b[1;32mc:\\Users\\kiran\\myvirtualenvs\\env1\\lib\\site-packages\\pandas\\io\\sql.py\u001b[0m in \u001b[0;36mread_query\u001b[1;34m(self, sql, index_col, coerce_float, parse_dates, params, chunksize)\u001b[0m\n\u001b[0;32m   1293\u001b[0m \u001b[1;33m\u001b[0m\u001b[0m\n\u001b[0;32m   1294\u001b[0m         \u001b[0mresult\u001b[0m \u001b[1;33m=\u001b[0m \u001b[0mself\u001b[0m\u001b[1;33m.\u001b[0m\u001b[0mexecute\u001b[0m\u001b[1;33m(\u001b[0m\u001b[1;33m*\u001b[0m\u001b[0margs\u001b[0m\u001b[1;33m)\u001b[0m\u001b[1;33m\u001b[0m\u001b[1;33m\u001b[0m\u001b[0m\n\u001b[1;32m-> 1295\u001b[1;33m         \u001b[0mcolumns\u001b[0m \u001b[1;33m=\u001b[0m \u001b[0mresult\u001b[0m\u001b[1;33m.\u001b[0m\u001b[0mkeys\u001b[0m\u001b[1;33m(\u001b[0m\u001b[1;33m)\u001b[0m\u001b[1;33m\u001b[0m\u001b[1;33m\u001b[0m\u001b[0m\n\u001b[0m\u001b[0;32m   1296\u001b[0m \u001b[1;33m\u001b[0m\u001b[0m\n\u001b[0;32m   1297\u001b[0m         \u001b[1;32mif\u001b[0m \u001b[0mchunksize\u001b[0m \u001b[1;32mis\u001b[0m \u001b[1;32mnot\u001b[0m \u001b[1;32mNone\u001b[0m\u001b[1;33m:\u001b[0m\u001b[1;33m\u001b[0m\u001b[1;33m\u001b[0m\u001b[0m\n",
      "\u001b[1;32mc:\\Users\\kiran\\myvirtualenvs\\env1\\lib\\site-packages\\sqlalchemy\\engine\\result.py\u001b[0m in \u001b[0;36mkeys\u001b[1;34m(self)\u001b[0m\n\u001b[0;32m    698\u001b[0m \u001b[1;33m\u001b[0m\u001b[0m\n\u001b[0;32m    699\u001b[0m         \"\"\"\n\u001b[1;32m--> 700\u001b[1;33m         \u001b[1;32mreturn\u001b[0m \u001b[0mself\u001b[0m\u001b[1;33m.\u001b[0m\u001b[0m_metadata\u001b[0m\u001b[1;33m.\u001b[0m\u001b[0mkeys\u001b[0m\u001b[1;33m\u001b[0m\u001b[1;33m\u001b[0m\u001b[0m\n\u001b[0m\u001b[0;32m    701\u001b[0m \u001b[1;33m\u001b[0m\u001b[0m\n\u001b[0;32m    702\u001b[0m \u001b[1;33m\u001b[0m\u001b[0m\n",
      "\u001b[1;32mc:\\Users\\kiran\\myvirtualenvs\\env1\\lib\\site-packages\\sqlalchemy\\engine\\cursor.py\u001b[0m in \u001b[0;36mkeys\u001b[1;34m(self)\u001b[0m\n\u001b[0;32m   1199\u001b[0m     \u001b[1;33m@\u001b[0m\u001b[0mproperty\u001b[0m\u001b[1;33m\u001b[0m\u001b[1;33m\u001b[0m\u001b[0m\n\u001b[0;32m   1200\u001b[0m     \u001b[1;32mdef\u001b[0m \u001b[0mkeys\u001b[0m\u001b[1;33m(\u001b[0m\u001b[0mself\u001b[0m\u001b[1;33m)\u001b[0m\u001b[1;33m:\u001b[0m\u001b[1;33m\u001b[0m\u001b[1;33m\u001b[0m\u001b[0m\n\u001b[1;32m-> 1201\u001b[1;33m         \u001b[0mself\u001b[0m\u001b[1;33m.\u001b[0m\u001b[0m_we_dont_return_rows\u001b[0m\u001b[1;33m(\u001b[0m\u001b[1;33m)\u001b[0m\u001b[1;33m\u001b[0m\u001b[1;33m\u001b[0m\u001b[0m\n\u001b[0m\u001b[0;32m   1202\u001b[0m \u001b[1;33m\u001b[0m\u001b[0m\n\u001b[0;32m   1203\u001b[0m \u001b[1;33m\u001b[0m\u001b[0m\n",
      "\u001b[1;32mc:\\Users\\kiran\\myvirtualenvs\\env1\\lib\\site-packages\\sqlalchemy\\engine\\cursor.py\u001b[0m in \u001b[0;36m_we_dont_return_rows\u001b[1;34m(self, err)\u001b[0m\n\u001b[0;32m   1176\u001b[0m \u001b[1;33m\u001b[0m\u001b[0m\n\u001b[0;32m   1177\u001b[0m     \u001b[1;32mdef\u001b[0m \u001b[0m_we_dont_return_rows\u001b[0m\u001b[1;33m(\u001b[0m\u001b[0mself\u001b[0m\u001b[1;33m,\u001b[0m \u001b[0merr\u001b[0m\u001b[1;33m=\u001b[0m\u001b[1;32mNone\u001b[0m\u001b[1;33m)\u001b[0m\u001b[1;33m:\u001b[0m\u001b[1;33m\u001b[0m\u001b[1;33m\u001b[0m\u001b[0m\n\u001b[1;32m-> 1178\u001b[1;33m         util.raise_(\n\u001b[0m\u001b[0;32m   1179\u001b[0m             exc.ResourceClosedError(\n\u001b[0;32m   1180\u001b[0m                 \u001b[1;34m\"This result object does not return rows. \"\u001b[0m\u001b[1;33m\u001b[0m\u001b[1;33m\u001b[0m\u001b[0m\n",
      "\u001b[1;32mc:\\Users\\kiran\\myvirtualenvs\\env1\\lib\\site-packages\\sqlalchemy\\util\\compat.py\u001b[0m in \u001b[0;36mraise_\u001b[1;34m(***failed resolving arguments***)\u001b[0m\n\u001b[0;32m    196\u001b[0m \u001b[1;33m\u001b[0m\u001b[0m\n\u001b[0;32m    197\u001b[0m         \u001b[1;32mtry\u001b[0m\u001b[1;33m:\u001b[0m\u001b[1;33m\u001b[0m\u001b[1;33m\u001b[0m\u001b[0m\n\u001b[1;32m--> 198\u001b[1;33m             \u001b[1;32mraise\u001b[0m \u001b[0mexception\u001b[0m\u001b[1;33m\u001b[0m\u001b[1;33m\u001b[0m\u001b[0m\n\u001b[0m\u001b[0;32m    199\u001b[0m         \u001b[1;32mfinally\u001b[0m\u001b[1;33m:\u001b[0m\u001b[1;33m\u001b[0m\u001b[1;33m\u001b[0m\u001b[0m\n\u001b[0;32m    200\u001b[0m             \u001b[1;31m# credit to\u001b[0m\u001b[1;33m\u001b[0m\u001b[1;33m\u001b[0m\u001b[1;33m\u001b[0m\u001b[0m\n",
      "\u001b[1;31mResourceClosedError\u001b[0m: This result object does not return rows. It has been closed automatically."
     ]
    }
   ],
   "source": [
    "import pandas as pd\n",
    "from sqlalchemy import create_engine\n",
    "\n",
    "#MYSQL Connection\n",
    "MYSQL_USER = 'root'\n",
    "MYSQL_PASSWORD = 'password'\n",
    "MYSQL_HOST_IP = '127.0.0.1'\n",
    "MYSQL_PORT = '3306'\n",
    "MYSQL_DATABASE = 'default'\n",
    "\n",
    "query = open(\"create_load_table.sql\")\n",
    "engine = create_engine('mysql://' + MYSQL_USER + ':' + MYSQL_PASSWORD + '@' + MYSQL_HOST_IP + ':' + MYSQL_PORT + '/' + MYSQL_DATABASE, echo=True)\n",
    "#db_connection = sql.connect(host=MYSQL_HOST_IP, database=MYSQL_DATABASE, user=MYSQL_USER, password=MYSQL_PASSWORD)\n",
    "\n",
    "'''\n",
    "engine = create_engine(('mysql+mysqlconnecttor://{}:{}@{}{}/{}').format(MYSQL_USER, MYSQL_PASSWORD, MYSQL_HOST_IP, MYSQL_PORT, MYSQL_DATABASE))\n",
    "with engine.connect() as connection:\n",
    "'''\n",
    "\n",
    "with engine.connect() as connection:\n",
    "    df = pd.read_sql(query.read(), connection)\n",
    "\n",
    "query.close()\n",
    "\n",
    "\n"
   ]
  },
  {
   "cell_type": "code",
   "execution_count": 19,
   "metadata": {},
   "outputs": [
    {
     "output_type": "stream",
     "name": "stdout",
     "text": [
      "2021-03-30 23:00:26,330 INFO sqlalchemy.engine.Engine SHOW VARIABLES LIKE 'sql_mode'\n",
      "2021-03-30 23:00:26,331 INFO sqlalchemy.engine.Engine [raw sql] ()\n",
      "2021-03-30 23:00:26,334 INFO sqlalchemy.engine.Engine SHOW VARIABLES LIKE 'lower_case_table_names'\n",
      "2021-03-30 23:00:26,335 INFO sqlalchemy.engine.Engine [generated in 0.00086s] ()\n",
      "2021-03-30 23:00:26,339 INFO sqlalchemy.engine.Engine SELECT DATABASE()\n",
      "2021-03-30 23:00:26,339 INFO sqlalchemy.engine.Engine [raw sql] ()\n",
      "2021-03-30 23:00:26,343 INFO sqlalchemy.engine.Engine INSERT INTO `table1` (`ID`,`num`,`Date`,`Address`) VALUES (4616401,11,'1721208968','P.O. Box 928, 6705 Erat St.')\n",
      "2021-03-30 23:00:26,343 INFO sqlalchemy.engine.Engine [raw sql] ()\n",
      "2021-03-30 23:00:26,345 INFO sqlalchemy.engine.Engine COMMIT\n"
     ]
    }
   ],
   "source": [
    "from sqlalchemy import text\n",
    "#MYSQL Connection\n",
    "MYSQL_USER = 'root'\n",
    "MYSQL_PASSWORD = 'password'\n",
    "MYSQL_HOST_IP = '127.0.0.1'\n",
    "MYSQL_PORT = '3306'\n",
    "MYSQL_DATABASE = 'default'\n",
    "engine = create_engine('mysql://' + MYSQL_USER + ':' + MYSQL_PASSWORD + '@' + MYSQL_HOST_IP + ':' + MYSQL_PORT + '/' + MYSQL_DATABASE, echo=True)\n",
    "\n",
    "with engine.connect() as connection:\n",
    "    connection.exec_driver_sql(\"INSERT INTO `table1` (`ID`,`num`,`Date`,`Address`) VALUES (4616401,11,'1721208968','P.O. Box 928, 6705 Erat St.')\")\n",
    "   \n"
   ]
  },
  {
   "cell_type": "code",
   "execution_count": 34,
   "metadata": {},
   "outputs": [
    {
     "output_type": "stream",
     "name": "stdout",
     "text": [
      "2021-03-31 00:03:24,013 INFO sqlalchemy.engine.Engine SHOW VARIABLES LIKE 'sql_mode'\n",
      "2021-03-31 00:03:24,013 INFO sqlalchemy.engine.Engine [raw sql] ()\n",
      "2021-03-31 00:03:24,017 INFO sqlalchemy.engine.Engine SHOW VARIABLES LIKE 'lower_case_table_names'\n",
      "2021-03-31 00:03:24,017 INFO sqlalchemy.engine.Engine [generated in 0.00070s] ()\n",
      "2021-03-31 00:03:24,021 INFO sqlalchemy.engine.Engine SELECT DATABASE()\n",
      "2021-03-31 00:03:24,022 INFO sqlalchemy.engine.Engine [raw sql] ()\n",
      "2021-03-31 00:03:24,025 INFO sqlalchemy.engine.Engine \n",
      "\n",
      "DROP TABLE IF EXISTS `default.table1`;\n",
      "\n",
      "CREATE TABLE `default.table1` (\n",
      "  `id` mediumint(8) unsigned NOT NULL auto_increment,\n",
      "  `num` mediumint,\n",
      "  `Date` varchar(255),\n",
      "  `Address` varchar(255) default NULL,\n",
      "  PRIMARY KEY (`id`)\n",
      ") AUTO_INCREMENT=1;\n",
      "\n",
      "INSERT INTO `default.table1` (`ID`,`num`,`Date`,`Address`) VALUES (461640,1,\"1721208967\",\"P.O. Box 928, 6705 Erat St.\"),(184904,2,\"1617742378\",\"1197 Tristique Ave\"),(949082,3,\"1983337849\",\"Ap #791-2299 Laoreet Ave\"),(206387,4,\"1841318893\",\"198-4189 Ligula. Av.\"),(881054,5,\"1986069712\",\"P.O. Box 513, 1942 Proin Av.\"),(272776,6,\"1830411188\",\"Ap #908-9309 Euismod Av.\"),(163189,7,\"1597676413\",\"Ap #776-888 Donec St.\"),(762221,8,\"1944768073\",\"P.O. Box 233, 797 Odio. Rd.\"),(530523,9,\"1850001689\",\"243-705 Felis. Avenue\"),(593715,10,\"1728094846\",\"Ap #903-6360 Lacinia Rd.\"),(265979,11,\"1590375964\",\"786-856 Ligula Road\"),(669772,12,\"1796311449\",\"259-4962 Mauris Av.\"),(642467,13,\"1605806254\",\"Ap #331-5224 Mi Avenue\"),(33315,14,\"1991753289\",\"P.O. Box 951, 8608 Velit Ave\"),(437524,15,\"1725537416\",\"7628 Sed Rd.\"),(169608,16,\"1813330794\",\"1859 Tellus St.\"),(840332,17,\"1588168599\",\"Ap #405-9030 Ultrices Rd.\"),(86660,18,\"1811771625\",\"P.O. Box 709, 7058 Facilisi. Avenue\"),(950659,19,\"1820849990\",\"851-6767 Non, Street\"),(959643,20,\"1820209433\",\"886-6668 Ultrices. Road\"),(233901,21,\"1798761652\",\"739-9267 Sodales. St.\"),(366761,22,\"1829757996\",\"612-7637 Vulputate, Ave\"),(573654,23,\"1896144567\",\"946-2270 Eget St.\"),(664363,24,\"2005149137\",\"532-9727 Tortor, Rd.\"),(433029,25,\"1785205336\",\"713-4561 Bibendum. St.\"),(23544,26,\"1767334254\",\"9745 Nulla. Street\"),(877970,27,\"1843260827\",\"258 Sociis St.\"),(579125,28,\"1959805855\",\"1548 Imperdiet Rd.\"),(787768,29,\"1753112498\",\"P.O. Box 382, 809 Adipiscing Av.\"),(253531,30,\"1675829781\",\"983-9785 Nec Rd.\"),(431860,31,\"1779711312\",\"P.O. Box 153, 1699 Velit St.\"),(428107,32,\"1830352100\",\"P.O. Box 379, 5511 Id, Road\"),(760942,33,\"1802508924\",\"4704 Proin Street\"),(972826,34,\"1664114217\",\"P.O. Box 441, 6172 Dictum. Rd.\"),(797908,35,\"1794239033\",\"P.O. Box 545, 405 Sed Street\"),(447651,36,\"1957392144\",\"7299 Mattis. Avenue\"),(596945,37,\"1720215753\",\"Ap #776-5097 Pellentesque St.\"),(988715,38,\"1973481539\",\"590 Donec Avenue\"),(34474,39,\"1772541079\",\"P.O. Box 251, 7096 Magnis St.\"),(698717,40,\"1840015716\",\"632-7960 Et St.\"),(27808,41,\"1663585013\",\"Ap #976-2464 Ante Street\");\n",
      "2021-03-31 00:03:24,026 INFO sqlalchemy.engine.Engine [raw sql] ()\n",
      "2021-03-31 00:03:24,178 INFO sqlalchemy.engine.Engine COMMIT\n"
     ]
    },
    {
     "output_type": "execute_result",
     "data": {
      "text/plain": [
       "<sqlalchemy.engine.cursor.LegacyCursorResult at 0x1875cec5e50>"
      ]
     },
     "metadata": {},
     "execution_count": 34
    }
   ],
   "source": [
    "\n",
    "from sqlalchemy import text\n",
    "#MYSQL Connection\n",
    "MYSQL_USER = 'root'\n",
    "MYSQL_PASSWORD = 'password'\n",
    "MYSQL_HOST_IP = '127.0.0.1'\n",
    "MYSQL_PORT = '3306'\n",
    "MYSQL_DATABASE = 'default'\n",
    "\n",
    "#https://docs.sqlalchemy.org/en/14/core/engines.html\n",
    "\n",
    "engine = create_engine('mysql://' + MYSQL_USER + ':' + MYSQL_PASSWORD + '@' + MYSQL_HOST_IP + ':' + MYSQL_PORT + '/' + MYSQL_DATABASE, echo=True)\n",
    "\n",
    "query = open(\"create_load_table.sql\")\n",
    "\n",
    "engine.execute(open(\"create_load_table.sql\", \"r\").read())"
   ]
  },
  {
   "cell_type": "code",
   "execution_count": null,
   "metadata": {},
   "outputs": [],
   "source": []
  }
 ]
}